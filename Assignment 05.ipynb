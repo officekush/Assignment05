{
 "cells": [
  {
   "cell_type": "code",
   "execution_count": 9,
   "id": "7e6bb850-97ac-40b9-8009-4a9c3d2e2fe2",
   "metadata": {},
   "outputs": [],
   "source": [
    "#Ans_1\n",
    "class Car01:\n",
    "    def __init__(self,name_of_vehical,max_speed,average_of_vehical):\n",
    "        self.name_of_vehical = name_of_vehical\n",
    "        self.max_speed = max_speed\n",
    "        self.average_of_vehical = average_of_vehical\n",
    "\n",
    "    def details_of_vehical(self):\n",
    "        return self.name_of_vehical, self.max_speed, self.average_of_vehical"
   ]
  },
  {
   "cell_type": "code",
   "execution_count": 10,
   "id": "c3c6a5bb-dd04-42d7-a9ef-775605b295af",
   "metadata": {},
   "outputs": [],
   "source": [
    "kush = Car01(\"tata_harrier\",180,12)"
   ]
  },
  {
   "cell_type": "code",
   "execution_count": 11,
   "id": "dbfca90b-7689-4619-97a8-9b4f79a2d126",
   "metadata": {},
   "outputs": [
    {
     "data": {
      "text/plain": [
       "('tata_harrier', 180, 12)"
      ]
     },
     "execution_count": 11,
     "metadata": {},
     "output_type": "execute_result"
    }
   ],
   "source": [
    "kush.details_of_vehical()"
   ]
  },
  {
   "cell_type": "code",
   "execution_count": 39,
   "id": "9fd8699d-f424-4ec6-8497-cdd067d8efff",
   "metadata": {},
   "outputs": [],
   "source": [
    "#Ans 2\n",
    "class seating_capacity(Car01):\n",
    "    def __init__(self,vehical,seating_capacity):\n",
    "        self.vehical=vehical\n",
    "        self.seating_capacity=seating_capacity\n",
    "    \n",
    "    def capacity_of_vehical(self):\n",
    "        return self.vehical,self.seating_capacity"
   ]
  },
  {
   "cell_type": "code",
   "execution_count": 46,
   "id": "9bd07130-5b3b-454b-a5dd-9b1fda129a06",
   "metadata": {},
   "outputs": [],
   "source": [
    "pessenger_5=seating_capacity(\"tata_nexon\",5)"
   ]
  },
  {
   "cell_type": "code",
   "execution_count": 47,
   "id": "4e78b806-0bc4-4877-b33a-90bf00f4d691",
   "metadata": {},
   "outputs": [
    {
     "data": {
      "text/plain": [
       "('tata_nexon', 5)"
      ]
     },
     "execution_count": 47,
     "metadata": {},
     "output_type": "execute_result"
    }
   ],
   "source": [
    "pessenger_5.capacity_of_vehical()"
   ]
  },
  {
   "cell_type": "code",
   "execution_count": 50,
   "id": "417587ab-a0af-4626-8b5c-28188bcded2d",
   "metadata": {},
   "outputs": [
    {
     "name": "stdout",
     "output_type": "stream",
     "text": [
      "Animal speaks\n",
      "Machine processes\n",
      "Robot works\n"
     ]
    }
   ],
   "source": [
    "#Ans 3\n",
    "'''Multiple inheritance is a feature in object-oriented programming languages \n",
    "where a class can inherit attributes and methods from more than one parent class. \n",
    "In Python, a class can inherit from multiple classes by specifying them in the class definition.\n",
    "\n",
    "Here's a simple example demonstrating multiple inheritance in Python:'''\n",
    "\n",
    "# Parent class 1\n",
    "class Animal:\n",
    "    def speak(self):\n",
    "        print(\"Animal speaks\")\n",
    "\n",
    "# Parent class 2\n",
    "class Machine:\n",
    "    def process(self):\n",
    "        print(\"Machine processes\")\n",
    "\n",
    "# Child class inheriting from both Animal and Machine\n",
    "class Robot(Animal, Machine):\n",
    "    def work(self):\n",
    "        print(\"Robot works\")\n",
    "\n",
    "Human=Robot()\n",
    "\n",
    "Human.speak()\n",
    "\n",
    "Human.process()\n",
    "\n",
    "Human.work()"
   ]
  },
  {
   "cell_type": "code",
   "execution_count": 53,
   "id": "793e5161-7d98-4fac-94b0-0212b2600708",
   "metadata": {},
   "outputs": [
    {
     "data": {
      "text/plain": [
       "8000"
      ]
     },
     "execution_count": 53,
     "metadata": {},
     "output_type": "execute_result"
    }
   ],
   "source": [
    "'''Ans 4 \n",
    "Getters and setters are methods used to access and modify the attributes of a classin a controlled manner. \n",
    "They are part of the concept of encapsulation, where you control access to the internal state of an object.\n",
    "\n",
    "Here's an example'''\n",
    "\n",
    "class bank_account:\n",
    "    def __init__(self,balance):\n",
    "        self.__balance=balance\n",
    "        \n",
    "    def deposit(self,amount):\n",
    "        self.__balance= self.__balance + amount\n",
    "        \n",
    "    def withdraw(self,amount):\n",
    "        if self.__balance >= amount :\n",
    "            self.__balance = self.__balance - amount\n",
    "            return True\n",
    "        else:\n",
    "            return False\n",
    "        \n",
    "    def get_balance(self):\n",
    "        return self.__balance\n",
    "    \n",
    "ram = bank_account(8000)\n",
    "\n",
    "ram.get_balance()\n"
   ]
  },
  {
   "cell_type": "code",
   "execution_count": 54,
   "id": "65d1930b-6c6b-4772-848e-9cc02cba8dc3",
   "metadata": {},
   "outputs": [
    {
     "data": {
      "text/plain": [
       "4500"
      ]
     },
     "execution_count": 54,
     "metadata": {},
     "output_type": "execute_result"
    }
   ],
   "source": [
    "ram.withdraw(3500)\n",
    "\n",
    "ram.get_balance()"
   ]
  },
  {
   "cell_type": "code",
   "execution_count": 59,
   "id": "092f36ae-b32c-4222-98e4-19e56b7eeb2c",
   "metadata": {},
   "outputs": [
    {
     "name": "stdout",
     "output_type": "stream",
     "text": [
      "Dog barks\n"
     ]
    }
   ],
   "source": [
    "''' Ans 5\n",
    "Method overriding in Python occurs when a subclass provides a specific implementation for a method \n",
    "that is already defined in its superclass. This allows a subclass to provide a specialized \n",
    "version of a method that is already defined in its parent class. \n",
    "The method in the subclass \"overrides\" the method in the superclass.\n",
    "\n",
    "Here's an example of overriding '''\n",
    "\n",
    "class Animal:\n",
    "    def speak(self):\n",
    "        print(\"Animal speaks\")\n",
    "\n",
    "class Dog(Animal):\n",
    "    def dog_speak(self):\n",
    "        print(\"Dog barks\")\n",
    "\n",
    "class Cat(Animal):\n",
    "    def cat_speak(self):\n",
    "        print(\"Cat meows\")\n",
    "        \n",
    "class language(Dog,Cat):\n",
    "    pass \n",
    "\n",
    "voice=language()\n",
    "voice.dog_speak()"
   ]
  },
  {
   "cell_type": "code",
   "execution_count": null,
   "id": "a08018a7-67ac-4003-a6e8-46ae86bc64d0",
   "metadata": {},
   "outputs": [],
   "source": []
  }
 ],
 "metadata": {
  "kernelspec": {
   "display_name": "Python 3 (ipykernel)",
   "language": "python",
   "name": "python3"
  },
  "language_info": {
   "codemirror_mode": {
    "name": "ipython",
    "version": 3
   },
   "file_extension": ".py",
   "mimetype": "text/x-python",
   "name": "python",
   "nbconvert_exporter": "python",
   "pygments_lexer": "ipython3",
   "version": "3.10.8"
  }
 },
 "nbformat": 4,
 "nbformat_minor": 5
}
